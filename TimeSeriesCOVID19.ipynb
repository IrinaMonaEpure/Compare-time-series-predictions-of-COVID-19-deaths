{
 "cells": [
  {
   "cell_type": "markdown",
   "metadata": {},
   "source": [
    "# Comparing time series predictions of COVID-19 deaths"
   ]
  },
  {
   "cell_type": "markdown",
   "metadata": {},
   "source": [
    "\n",
    "![Comparison](Comparison.png)"
   ]
  },
  {
   "cell_type": "code",
   "execution_count": 2,
   "metadata": {},
   "outputs": [
    {
     "name": "stderr",
     "output_type": "stream",
     "text": [
      "Matplotlib created a temporary config/cache directory at /home/rhyme/.config/matplotlib because the default path (/tmp/matplotlib-35r6m3nh) is not a writable directory; it is highly recommended to set the MPLCONFIGDIR environment variable to a writable directory, in particular to speed up the import of Matplotlib and to better support multiprocessing.\n",
      "Importing plotly failed. Interactive plots will not work.\n"
     ]
    }
   ],
   "source": [
    "import pmdarima as pm\n",
    "from statsmodels.tsa.seasonal import seasonal_decompose\n",
    "from sklearn.model_selection import TimeSeriesSplit\n",
    "import pandas as pd\n",
    "import numpy as np\n",
    "import datetime\n",
    "import requests\n",
    "import warnings\n",
    "\n",
    "import matplotlib.pyplot as plt\n",
    "import matplotlib\n",
    "import matplotlib.dates as mdates\n",
    "\n",
    "from xgboost import XGBRegressor\n",
    "from sklearn.ensemble import RandomForestRegressor\n",
    "from sklearn.metrics import mean_squared_error, mean_absolute_error\n",
    "from sklearn.preprocessing import OrdinalEncoder\n",
    "from sklearn.svm import SVR\n",
    "from sklearn.model_selection import train_test_split\n",
    "from statsmodels.tsa.statespace.sarimax import SARIMAX\n",
    "from statsmodels.tsa.arima_model import ARIMA\n",
    "from sklearn.preprocessing import StandardScaler\n",
    "from fbprophet import Prophet\n",
    "from fbprophet.plot import plot_plotly, add_changepoints_to_plot\n",
    "from keras.models import Sequential\n",
    "from keras.layers import Dense\n",
    "\n",
    "from keras.optimizers import Adam\n",
    "\n",
    "warnings.filterwarnings('ignore')\n"
   ]
  },
  {
   "cell_type": "markdown",
   "metadata": {},
   "source": [
    "# Task 1: Open the data and prepare the dataset data frame"
   ]
  },
  {
   "cell_type": "code",
   "execution_count": 3,
   "metadata": {},
   "outputs": [],
   "source": [
    "deaths_df = pd.read_csv('time_series_covid19_deaths_global.csv')"
   ]
  },
  {
   "cell_type": "markdown",
   "metadata": {},
   "source": [
    "First, get the data for the daily deaths in all countries in the report"
   ]
  },
  {
   "cell_type": "code",
   "execution_count": 4,
   "metadata": {},
   "outputs": [
    {
     "data": {
      "text/html": [
       "<div>\n",
       "<style scoped>\n",
       "    .dataframe tbody tr th:only-of-type {\n",
       "        vertical-align: middle;\n",
       "    }\n",
       "\n",
       "    .dataframe tbody tr th {\n",
       "        vertical-align: top;\n",
       "    }\n",
       "\n",
       "    .dataframe thead th {\n",
       "        text-align: right;\n",
       "    }\n",
       "</style>\n",
       "<table border=\"1\" class=\"dataframe\">\n",
       "  <thead>\n",
       "    <tr style=\"text-align: right;\">\n",
       "      <th></th>\n",
       "      <th>1/22/20</th>\n",
       "      <th>1/23/20</th>\n",
       "      <th>1/24/20</th>\n",
       "      <th>1/25/20</th>\n",
       "      <th>1/26/20</th>\n",
       "      <th>1/27/20</th>\n",
       "      <th>1/28/20</th>\n",
       "      <th>1/29/20</th>\n",
       "      <th>1/30/20</th>\n",
       "      <th>1/31/20</th>\n",
       "      <th>...</th>\n",
       "      <th>8/7/20</th>\n",
       "      <th>8/8/20</th>\n",
       "      <th>8/9/20</th>\n",
       "      <th>8/10/20</th>\n",
       "      <th>8/11/20</th>\n",
       "      <th>8/12/20</th>\n",
       "      <th>8/13/20</th>\n",
       "      <th>8/14/20</th>\n",
       "      <th>8/15/20</th>\n",
       "      <th>8/16/20</th>\n",
       "    </tr>\n",
       "  </thead>\n",
       "  <tbody>\n",
       "    <tr>\n",
       "      <th>0</th>\n",
       "      <td>0</td>\n",
       "      <td>0</td>\n",
       "      <td>0</td>\n",
       "      <td>0</td>\n",
       "      <td>0</td>\n",
       "      <td>0</td>\n",
       "      <td>0</td>\n",
       "      <td>0</td>\n",
       "      <td>0</td>\n",
       "      <td>0</td>\n",
       "      <td>...</td>\n",
       "      <td>1307</td>\n",
       "      <td>1312</td>\n",
       "      <td>1312</td>\n",
       "      <td>1328</td>\n",
       "      <td>1344</td>\n",
       "      <td>1354</td>\n",
       "      <td>1363</td>\n",
       "      <td>1363</td>\n",
       "      <td>1370</td>\n",
       "      <td>1375</td>\n",
       "    </tr>\n",
       "    <tr>\n",
       "      <th>1</th>\n",
       "      <td>0</td>\n",
       "      <td>0</td>\n",
       "      <td>0</td>\n",
       "      <td>0</td>\n",
       "      <td>0</td>\n",
       "      <td>0</td>\n",
       "      <td>0</td>\n",
       "      <td>0</td>\n",
       "      <td>0</td>\n",
       "      <td>0</td>\n",
       "      <td>...</td>\n",
       "      <td>189</td>\n",
       "      <td>193</td>\n",
       "      <td>199</td>\n",
       "      <td>200</td>\n",
       "      <td>205</td>\n",
       "      <td>208</td>\n",
       "      <td>213</td>\n",
       "      <td>219</td>\n",
       "      <td>225</td>\n",
       "      <td>228</td>\n",
       "    </tr>\n",
       "    <tr>\n",
       "      <th>2</th>\n",
       "      <td>0</td>\n",
       "      <td>0</td>\n",
       "      <td>0</td>\n",
       "      <td>0</td>\n",
       "      <td>0</td>\n",
       "      <td>0</td>\n",
       "      <td>0</td>\n",
       "      <td>0</td>\n",
       "      <td>0</td>\n",
       "      <td>0</td>\n",
       "      <td>...</td>\n",
       "      <td>1282</td>\n",
       "      <td>1293</td>\n",
       "      <td>1302</td>\n",
       "      <td>1312</td>\n",
       "      <td>1322</td>\n",
       "      <td>1333</td>\n",
       "      <td>1341</td>\n",
       "      <td>1351</td>\n",
       "      <td>1360</td>\n",
       "      <td>1370</td>\n",
       "    </tr>\n",
       "    <tr>\n",
       "      <th>3</th>\n",
       "      <td>0</td>\n",
       "      <td>0</td>\n",
       "      <td>0</td>\n",
       "      <td>0</td>\n",
       "      <td>0</td>\n",
       "      <td>0</td>\n",
       "      <td>0</td>\n",
       "      <td>0</td>\n",
       "      <td>0</td>\n",
       "      <td>0</td>\n",
       "      <td>...</td>\n",
       "      <td>52</td>\n",
       "      <td>52</td>\n",
       "      <td>52</td>\n",
       "      <td>52</td>\n",
       "      <td>52</td>\n",
       "      <td>53</td>\n",
       "      <td>53</td>\n",
       "      <td>53</td>\n",
       "      <td>53</td>\n",
       "      <td>53</td>\n",
       "    </tr>\n",
       "    <tr>\n",
       "      <th>4</th>\n",
       "      <td>0</td>\n",
       "      <td>0</td>\n",
       "      <td>0</td>\n",
       "      <td>0</td>\n",
       "      <td>0</td>\n",
       "      <td>0</td>\n",
       "      <td>0</td>\n",
       "      <td>0</td>\n",
       "      <td>0</td>\n",
       "      <td>0</td>\n",
       "      <td>...</td>\n",
       "      <td>67</td>\n",
       "      <td>70</td>\n",
       "      <td>75</td>\n",
       "      <td>78</td>\n",
       "      <td>80</td>\n",
       "      <td>80</td>\n",
       "      <td>80</td>\n",
       "      <td>86</td>\n",
       "      <td>86</td>\n",
       "      <td>88</td>\n",
       "    </tr>\n",
       "  </tbody>\n",
       "</table>\n",
       "<p>5 rows × 208 columns</p>\n",
       "</div>"
      ],
      "text/plain": [
       "   1/22/20  1/23/20  1/24/20  1/25/20  1/26/20  1/27/20  1/28/20  1/29/20  \\\n",
       "0        0        0        0        0        0        0        0        0   \n",
       "1        0        0        0        0        0        0        0        0   \n",
       "2        0        0        0        0        0        0        0        0   \n",
       "3        0        0        0        0        0        0        0        0   \n",
       "4        0        0        0        0        0        0        0        0   \n",
       "\n",
       "   1/30/20  1/31/20  ...  8/7/20  8/8/20  8/9/20  8/10/20  8/11/20  8/12/20  \\\n",
       "0        0        0  ...    1307    1312    1312     1328     1344     1354   \n",
       "1        0        0  ...     189     193     199      200      205      208   \n",
       "2        0        0  ...    1282    1293    1302     1312     1322     1333   \n",
       "3        0        0  ...      52      52      52       52       52       53   \n",
       "4        0        0  ...      67      70      75       78       80       80   \n",
       "\n",
       "   8/13/20  8/14/20  8/15/20  8/16/20  \n",
       "0     1363     1363     1370     1375  \n",
       "1      213      219      225      228  \n",
       "2     1341     1351     1360     1370  \n",
       "3       53       53       53       53  \n",
       "4       80       86       86       88  \n",
       "\n",
       "[5 rows x 208 columns]"
      ]
     },
     "execution_count": 4,
     "metadata": {},
     "output_type": "execute_result"
    }
   ],
   "source": [
    "d = deaths_df.loc[:, '1/22/20':]\n",
    "d.head()"
   ]
  },
  {
   "cell_type": "markdown",
   "metadata": {},
   "source": [
    "Transpose the data frame"
   ]
  },
  {
   "cell_type": "code",
   "execution_count": 5,
   "metadata": {},
   "outputs": [],
   "source": [
    "d = d.transpose()"
   ]
  },
  {
   "cell_type": "markdown",
   "metadata": {},
   "source": [
    "Then sum row-wise"
   ]
  },
  {
   "cell_type": "code",
   "execution_count": 6,
   "metadata": {},
   "outputs": [],
   "source": [
    "d = d.sum(axis=1)"
   ]
  },
  {
   "cell_type": "markdown",
   "metadata": {},
   "source": [
    "We only need the numeric values here, so we convert `d` to a list"
   ]
  },
  {
   "cell_type": "code",
   "execution_count": 7,
   "metadata": {},
   "outputs": [],
   "source": [
    "d = d.to_list()"
   ]
  },
  {
   "cell_type": "markdown",
   "metadata": {},
   "source": [
    "Create a new data frame with two columns, which will be our dataset:"
   ]
  },
  {
   "cell_type": "code",
   "execution_count": 8,
   "metadata": {},
   "outputs": [],
   "source": [
    "dataset = pd.DataFrame(columns=['ds','y'])"
   ]
  },
  {
   "cell_type": "markdown",
   "metadata": {},
   "source": [
    "Get the dates from the columns in `deaths_df` data frame, starting from the fifth column. They will be obtained in string format."
   ]
  },
  {
   "cell_type": "code",
   "execution_count": 9,
   "metadata": {},
   "outputs": [],
   "source": [
    "dates = list(deaths_df.columns[4:])"
   ]
  },
  {
   "cell_type": "markdown",
   "metadata": {},
   "source": [
    "Convert the string dates into the datetime format, so that we can perform datetime operations on them"
   ]
  },
  {
   "cell_type": "code",
   "execution_count": 10,
   "metadata": {},
   "outputs": [],
   "source": [
    "dates = list(pd.to_datetime(dates))"
   ]
  },
  {
   "cell_type": "markdown",
   "metadata": {},
   "source": [
    "Now, assign the dates and deaths data to the columns in the new dataframe:"
   ]
  },
  {
   "cell_type": "code",
   "execution_count": 11,
   "metadata": {},
   "outputs": [],
   "source": [
    "dataset['ds'] = dates\n",
    "dataset['y'] = d"
   ]
  },
  {
   "cell_type": "markdown",
   "metadata": {},
   "source": [
    "We will need to have only 1 data column, y, with the index being ds"
   ]
  },
  {
   "cell_type": "code",
   "execution_count": 12,
   "metadata": {},
   "outputs": [],
   "source": [
    "dataset = dataset.set_index('ds')"
   ]
  },
  {
   "cell_type": "markdown",
   "metadata": {},
   "source": [
    "Let's plot the daily number of deaths\n"
   ]
  },
  {
   "cell_type": "code",
   "execution_count": 13,
   "metadata": {},
   "outputs": [
    {
     "data": {
      "image/png": "[encoded data removed]",
      "text/plain": [
       "<Figure size 720x720 with 1 Axes>"
      ]
     },
     "metadata": {
      "needs_background": "light"
     },
     "output_type": "display_data"
    }
   ],
   "source": [
    "plt.figure(figsize=(10,10))\n",
    "plt.plot(dataset)\n",
    "plt.savefig('Cummulative daily deaths', bbox_inches='tight', transparent=False)"
   ]
  },
  {
   "cell_type": "markdown",
   "metadata": {},
   "source": [
    "and let's see how the daily increase looks like. To do this, we will use the `diff` method from the Dataframe object."
   ]
  },
  {
   "cell_type": "code",
   "execution_count": 14,
   "metadata": {},
   "outputs": [
    {
     "data": {
      "image/png": "[encoded data removed]",
      "text/plain": [
       "<Figure size 720x720 with 1 Axes>"
      ]
     },
     "metadata": {
      "needs_background": "light"
     },
     "output_type": "display_data"
    }
   ],
   "source": [
    "plt.figure(figsize=(10,10))\n",
    "plt.plot(dataset.diff())\n",
    "plt.savefig('Daily deaths', bbox_inches='tight', transparent=False)"
   ]
  },
  {
   "cell_type": "markdown",
   "metadata": {},
   "source": [
    "In this project, we are going to analyze the daily reported deaths"
   ]
  },
  {
   "cell_type": "code",
   "execution_count": 15,
   "metadata": {},
   "outputs": [],
   "source": [
    "dataset = dataset.diff()"
   ]
  },
  {
   "cell_type": "markdown",
   "metadata": {},
   "source": [
    "We need to remove the first data point here, which will be a None value"
   ]
  },
  {
   "cell_type": "code",
   "execution_count": 16,
   "metadata": {},
   "outputs": [],
   "source": [
    "dataset = dataset.loc['2020-01-23':'2020-08-13']"
   ]
  },
  {
   "cell_type": "markdown",
   "metadata": {},
   "source": [
    "# Task 2: Forcasting using SARIMAX, or Seasonal AutoRegressive Integrated Moving Average with eXogenous regressors model"
   ]
  },
  {
   "cell_type": "markdown",
   "metadata": {},
   "source": [
    "SARIMAX is one of the time series models in the python statistics library statsmodels."
   ]
  },
  {
   "cell_type": "markdown",
   "metadata": {},
   "source": [
    "But before we apply the model, we will split our dataset into a training and test sets. We will do this by taking all dates prior to 31st of July as training set, on which the model will be optimized, and all dates from 31st July as the test set, on which we will test the accuracy of the predictions that the optimized model will make."
   ]
  },
  {
   "cell_type": "code",
   "execution_count": 17,
   "metadata": {},
   "outputs": [],
   "source": [
    "start_date = '2020-07-31'\n",
    "\n",
    "train = dataset.loc[dataset.index < pd.to_datetime(start_date)]\n",
    "test = dataset.loc[dataset.index >= pd.to_datetime(start_date)]"
   ]
  },
  {
   "cell_type": "markdown",
   "metadata": {},
   "source": [
    "Now let's talk about SARIMAX. There are three hyperparameters that go into the order tuple: p, q and d. Here we've used p=2, q=1 and d=3."
   ]
  },
  {
   "cell_type": "code",
   "execution_count": 18,
   "metadata": {},
   "outputs": [],
   "source": [
    "model = SARIMAX(train, order=(2,1,3))"
   ]
  },
  {
   "cell_type": "markdown",
   "metadata": {},
   "source": [
    "Next, we call the fit method to optimize the model."
   ]
  },
  {
   "cell_type": "code",
   "execution_count": 19,
   "metadata": {},
   "outputs": [],
   "source": [
    "results = model.fit(disp=True)"
   ]
  },
  {
   "cell_type": "markdown",
   "metadata": {},
   "source": [
    "Now let's make predictions using the model, and compare those against the values in the test set."
   ]
  },
  {
   "cell_type": "code",
   "execution_count": 20,
   "metadata": {},
   "outputs": [
    {
     "data": {
      "image/png": "[encoded data removed]",
      "text/plain": [
       "<Figure size 720x360 with 1 Axes>"
      ]
     },
     "metadata": {
      "needs_background": "light"
     },
     "output_type": "display_data"
    }
   ],
   "source": [
    "sarimax_prediction = results.predict(\n",
    "    start=start_date, end='2020-08-13', dynamic=False)\n",
    "plt.figure(figsize=(10,5))\n",
    "l1, = plt.plot(dataset, label='Observation')\n",
    "l2, = plt.plot(sarimax_prediction, label='ARIMA')\n",
    "plt.legend(handles=[l1, l2])\n",
    "plt.savefig('SARIMAX prediction', bbox_inches='tight', transparent=False)"
   ]
  },
  {
   "cell_type": "markdown",
   "metadata": {},
   "source": [
    "Since that we are interested in comparing between the different time series analysis approaches, we are going to use one of the validation measures: mean absolute error."
   ]
  },
  {
   "cell_type": "code",
   "execution_count": 21,
   "metadata": {},
   "outputs": [
    {
     "name": "stdout",
     "output_type": "stream",
     "text": [
      "SARIMAX MAE =  650.6157483614192\n"
     ]
    }
   ],
   "source": [
    "print('SARIMAX MAE = ', mean_absolute_error(sarimax_prediction, test))"
   ]
  },
  {
   "cell_type": "markdown",
   "metadata": {},
   "source": [
    "However, in a typical machine learning workflow, we should find the best values of p, q and r that will minimize the error. We can use the auto_arima function in the pmdarima module to do that. This will find the optimal parameter combintation and return the best model.\n"
   ]
  },
  {
   "cell_type": "code",
   "execution_count": 22,
   "metadata": {},
   "outputs": [
    {
     "name": "stdout",
     "output_type": "stream",
     "text": [
      "Performing stepwise search to minimize aic\n",
      " ARIMA(1,1,1)(0,0,0)[0] intercept   : AIC=3111.971, Time=0.34 sec\n",
      " ARIMA(0,1,0)(0,0,0)[0] intercept   : AIC=3132.320, Time=0.02 sec\n",
      " ARIMA(1,1,0)(0,0,0)[0] intercept   : AIC=3133.730, Time=0.03 sec\n",
      " ARIMA(0,1,1)(0,0,0)[0] intercept   : AIC=3133.267, Time=0.04 sec\n",
      " ARIMA(0,1,0)(0,0,0)[0]             : AIC=3130.535, Time=0.01 sec\n",
      " ARIMA(2,1,1)(0,0,0)[0] intercept   : AIC=3099.418, Time=0.56 sec\n",
      " ARIMA(2,1,0)(0,0,0)[0] intercept   : AIC=3128.118, Time=0.05 sec\n",
      " ARIMA(3,1,1)(0,0,0)[0] intercept   : AIC=3089.597, Time=0.58 sec\n",
      " ARIMA(3,1,0)(0,0,0)[0] intercept   : AIC=3116.490, Time=0.08 sec\n",
      " ARIMA(3,1,2)(0,0,0)[0] intercept   : AIC=3043.804, Time=0.83 sec\n",
      " ARIMA(2,1,2)(0,0,0)[0] intercept   : AIC=3040.433, Time=0.69 sec\n",
      " ARIMA(1,1,2)(0,0,0)[0] intercept   : AIC=3106.295, Time=0.57 sec\n",
      " ARIMA(2,1,3)(0,0,0)[0] intercept   : AIC=3025.719, Time=0.90 sec\n",
      " ARIMA(1,1,3)(0,0,0)[0] intercept   : AIC=3105.847, Time=0.64 sec\n",
      " ARIMA(3,1,3)(0,0,0)[0] intercept   : AIC=3032.873, Time=1.01 sec\n",
      " ARIMA(2,1,3)(0,0,0)[0]             : AIC=3024.848, Time=0.73 sec\n",
      " ARIMA(1,1,3)(0,0,0)[0]             : AIC=inf, Time=0.48 sec\n",
      " ARIMA(2,1,2)(0,0,0)[0]             : AIC=inf, Time=0.33 sec\n",
      " ARIMA(3,1,3)(0,0,0)[0]             : AIC=3034.045, Time=0.82 sec\n",
      " ARIMA(1,1,2)(0,0,0)[0]             : AIC=3106.064, Time=0.41 sec\n",
      " ARIMA(3,1,2)(0,0,0)[0]             : AIC=3030.660, Time=0.65 sec\n",
      "\n",
      "Best model:  ARIMA(2,1,3)(0,0,0)[0]          \n",
      "Total fit time: 9.838 seconds\n",
      "                               SARIMAX Results                                \n",
      "==============================================================================\n",
      "Dep. Variable:                      y   No. Observations:                  190\n",
      "Model:               SARIMAX(2, 1, 3)   Log Likelihood               -1506.424\n",
      "Date:                Thu, 06 Jan 2022   AIC                           3024.848\n",
      "Time:                        16:52:44   BIC                           3044.299\n",
      "Sample:                             0   HQIC                          3032.728\n",
      "                                - 190                                         \n",
      "Covariance Type:                  opg                                         \n",
      "==============================================================================\n",
      "                 coef    std err          z      P>|z|      [0.025      0.975]\n",
      "------------------------------------------------------------------------------\n",
      "ar.L1          1.2434      0.017     72.420      0.000       1.210       1.277\n",
      "ar.L2         -0.9796      0.019    -51.206      0.000      -1.017      -0.942\n",
      "ma.L1         -1.7687      0.065    -27.195      0.000      -1.896      -1.641\n",
      "ma.L2          1.4753      0.097     15.266      0.000       1.286       1.665\n",
      "ma.L3         -0.3939      0.064     -6.141      0.000      -0.520      -0.268\n",
      "sigma2      4.964e+05   3.61e+04     13.749      0.000    4.26e+05    5.67e+05\n",
      "===================================================================================\n",
      "Ljung-Box (Q):                      208.46   Jarque-Bera (JB):                95.44\n",
      "Prob(Q):                              0.00   Prob(JB):                         0.00\n",
      "Heteroskedasticity (H):              13.70   Skew:                             0.67\n",
      "Prob(H) (two-sided):                  0.00   Kurtosis:                         6.22\n",
      "===================================================================================\n",
      "\n",
      "Warnings:\n",
      "[1] Covariance matrix calculated using the outer product of gradients (complex-step).\n"
     ]
    }
   ],
   "source": [
    "model = pm.auto_arima(train, start_p=1, start_q=1,\n",
    "                      test='adf',       # use adftest to find optimal 'd'\n",
    "                      max_p=3, max_q=3,  # maximum p and q\n",
    "                      m=1,              # frequency of series\n",
    "                      d=None,           # let model determine 'd'\n",
    "                      seasonal=False,   # No Seasonality\n",
    "                      start_P=0,\n",
    "                      D=0,\n",
    "                      trace=True,\n",
    "                      error_action='ignore',\n",
    "                      suppress_warnings=True,\n",
    "                      stepwise=True)\n",
    "\n",
    "print(model.summary())"
   ]
  },
  {
   "cell_type": "markdown",
   "metadata": {},
   "source": [
    "Note that this gives us the best mode here: \"Best model:  SARIMAX(2,2,3)(0,0,0)[0]\""
   ]
  },
  {
   "cell_type": "markdown",
   "metadata": {},
   "source": [
    "# Task 3: Forcasting using Facebook's Prophet model"
   ]
  },
  {
   "cell_type": "markdown",
   "metadata": {},
   "source": [
    "This is the open source time series library released by Facebook. It is also widely used by Facebook in their own time series analysis tasks. Facebook prophet does not require that you specify or search for hyperparameters. The model can act as a black box that does all the required computations on its own. And it works with the same object-fit-predict API.\n",
    "\n",
    "Prophet expects the data frame to have 2 columns, unlike SARIMAX."
   ]
  },
  {
   "cell_type": "code",
   "execution_count": 23,
   "metadata": {},
   "outputs": [],
   "source": [
    "train['ds'] = train.index.values"
   ]
  },
  {
   "cell_type": "markdown",
   "metadata": {},
   "source": [
    "Then we create a new Prophet object and call the `fit()` method"
   ]
  },
  {
   "cell_type": "code",
   "execution_count": 24,
   "metadata": {},
   "outputs": [
    {
     "name": "stderr",
     "output_type": "stream",
     "text": [
      "INFO:fbprophet:Disabling yearly seasonality. Run prophet with yearly_seasonality=True to override this.\n",
      "INFO:fbprophet:Disabling daily seasonality. Run prophet with daily_seasonality=True to override this.\n"
     ]
    },
    {
     "data": {
      "text/plain": [
       "<fbprophet.forecaster.Prophet at 0x7f4ec962ffd0>"
      ]
     },
     "execution_count": 24,
     "metadata": {},
     "output_type": "execute_result"
    }
   ],
   "source": [
    "m = Prophet()\n",
    "m.fit(train)"
   ]
  },
  {
   "cell_type": "markdown",
   "metadata": {},
   "source": [
    "Now let's forecast:"
   ]
  },
  {
   "cell_type": "code",
   "execution_count": 25,
   "metadata": {},
   "outputs": [],
   "source": [
    "future = m.make_future_dataframe(periods=dataset.shape[0]-train.shape[0])\n",
    "prophet_prediction = m.predict(future)"
   ]
  },
  {
   "cell_type": "markdown",
   "metadata": {},
   "source": [
    "Now let us calculate the mean absolute error for our predictions."
   ]
  },
  {
   "cell_type": "code",
   "execution_count": 26,
   "metadata": {},
   "outputs": [
    {
     "name": "stdout",
     "output_type": "stream",
     "text": [
      "Prophet MAE =  572.5555342749124\n"
     ]
    }
   ],
   "source": [
    "prophet_prediction = prophet_prediction.set_index('ds')\n",
    "prophet_future = prophet_prediction.yhat.loc[prophet_prediction.index >= start_date]\n",
    "print('Prophet MAE = ', mean_absolute_error(prophet_future, test))"
   ]
  },
  {
   "cell_type": "markdown",
   "metadata": {},
   "source": [
    "Next, let's visualize the predictions."
   ]
  },
  {
   "cell_type": "code",
   "execution_count": 27,
   "metadata": {},
   "outputs": [
    {
     "data": {
      "image/png": "[encoded data removed]",
      "text/plain": [
       "<Figure size 720x360 with 1 Axes>"
      ]
     },
     "metadata": {
      "needs_background": "light"
     },
     "output_type": "display_data"
    }
   ],
   "source": [
    "plt.figure(figsize=(10,5))\n",
    "l1, = plt.plot(dataset, label='Observation')\n",
    "l2, = plt.plot(prophet_future, label='Prophet')\n",
    "plt.legend(handles=[l1, l2])\n",
    "plt.savefig('Prophet predictions', bbox_inches='tight', transparent=False)"
   ]
  },
  {
   "cell_type": "markdown",
   "metadata": {},
   "source": [
    "# Task 4: Preparing the dataset for XGBOOST and NN"
   ]
  },
  {
   "cell_type": "markdown",
   "metadata": {},
   "source": [
    "Unlike the prophet and SAIMAX models, the two models we will train in Task 6, namely XGBOOST and NN, are supervised machine learning models that deal with independent data points, or examples. It assumes that each data point is totally independent from the rest of the data points in the dataset.\n",
    "\n",
    "Here is a method that extracts these features from a given dataframe object."
   ]
  },
  {
   "cell_type": "code",
   "execution_count": 28,
   "metadata": {},
   "outputs": [
    {
     "data": {
      "text/html": [
       "<div>\n",
       "<style scoped>\n",
       "    .dataframe tbody tr th:only-of-type {\n",
       "        vertical-align: middle;\n",
       "    }\n",
       "\n",
       "    .dataframe tbody tr th {\n",
       "        vertical-align: top;\n",
       "    }\n",
       "\n",
       "    .dataframe thead th {\n",
       "        text-align: right;\n",
       "    }\n",
       "</style>\n",
       "<table border=\"1\" class=\"dataframe\">\n",
       "  <thead>\n",
       "    <tr style=\"text-align: right;\">\n",
       "      <th></th>\n",
       "      <th>day</th>\n",
       "      <th>month</th>\n",
       "      <th>quarter</th>\n",
       "      <th>dayofweek</th>\n",
       "      <th>dayofyear</th>\n",
       "      <th>weekofyear</th>\n",
       "    </tr>\n",
       "  </thead>\n",
       "  <tbody>\n",
       "    <tr>\n",
       "      <th>0</th>\n",
       "      <td>23</td>\n",
       "      <td>1</td>\n",
       "      <td>1</td>\n",
       "      <td>3</td>\n",
       "      <td>23</td>\n",
       "      <td>4</td>\n",
       "    </tr>\n",
       "    <tr>\n",
       "      <th>1</th>\n",
       "      <td>24</td>\n",
       "      <td>1</td>\n",
       "      <td>1</td>\n",
       "      <td>4</td>\n",
       "      <td>24</td>\n",
       "      <td>4</td>\n",
       "    </tr>\n",
       "    <tr>\n",
       "      <th>2</th>\n",
       "      <td>25</td>\n",
       "      <td>1</td>\n",
       "      <td>1</td>\n",
       "      <td>5</td>\n",
       "      <td>25</td>\n",
       "      <td>4</td>\n",
       "    </tr>\n",
       "    <tr>\n",
       "      <th>3</th>\n",
       "      <td>26</td>\n",
       "      <td>1</td>\n",
       "      <td>1</td>\n",
       "      <td>6</td>\n",
       "      <td>26</td>\n",
       "      <td>4</td>\n",
       "    </tr>\n",
       "    <tr>\n",
       "      <th>4</th>\n",
       "      <td>27</td>\n",
       "      <td>1</td>\n",
       "      <td>1</td>\n",
       "      <td>0</td>\n",
       "      <td>27</td>\n",
       "      <td>5</td>\n",
       "    </tr>\n",
       "  </tbody>\n",
       "</table>\n",
       "</div>"
      ],
      "text/plain": [
       "   day  month  quarter  dayofweek  dayofyear  weekofyear\n",
       "0   23      1        1          3         23           4\n",
       "1   24      1        1          4         24           4\n",
       "2   25      1        1          5         25           4\n",
       "3   26      1        1          6         26           4\n",
       "4   27      1        1          0         27           5"
      ]
     },
     "execution_count": 28,
     "metadata": {},
     "output_type": "execute_result"
    }
   ],
   "source": [
    "def featurize(t):\n",
    "    X = pd.DataFrame()\n",
    "    \n",
    "    X['day'] = t.index.day\n",
    "    X['month'] = t.index.month\n",
    "    X['quarter'] = t.index.quarter\n",
    "    X['dayofweek'] = t.index.dayofweek\n",
    "    X['dayofyear'] = t.index.dayofyear\n",
    "    X['weekofyear'] = t.index.weekofyear\n",
    "    y = t.y\n",
    "    return X, y\n",
    "\n",
    "featurize(dataset)[0].head()"
   ]
  },
  {
   "cell_type": "markdown",
   "metadata": {},
   "source": [
    "# Task 5: Create training and test datasets by splitting the dataset, and perform data normalization."
   ]
  },
  {
   "cell_type": "markdown",
   "metadata": {},
   "source": [
    "In this task we are going to cover two topics in data preparation: splitting the dataset into training and test data, and normalizing the data.\n",
    "\n",
    "You might have already performed a splitting operation of a dataset in machine learning, where one takes a randomly selected portion of the dataset, say 20%, as a test set, while the remaining 80% is the training set. It is randomly selected because the whole dataset is randomly shufflled before the selection. Another popular approach is the k-fold cross validation.\n",
    "\n",
    "However, those two methods won't work with time series data. The reason is: when we train the model on the training set, the purpose is to predict the target values in the future, which corresponds to date values that are outside of the date values in the training set."
   ]
  },
  {
   "cell_type": "code",
   "execution_count": 29,
   "metadata": {},
   "outputs": [],
   "source": [
    "X_train, y_train = featurize(\n",
    "    dataset.loc[dataset.index < pd.to_datetime(start_date)])\n",
    "X_test, y_test = featurize(\n",
    "    dataset.loc[dataset.index >= pd.to_datetime(start_date)])"
   ]
  },
  {
   "cell_type": "markdown",
   "metadata": {},
   "source": [
    "Now let's discuss data normalization. We perform data normalization so as to make the range of values of the features, or the columns in the X_train table, as close as possible. For example, we have the features dayofweek and dayofyear. The range of values of dayofweek is from 1 to 7, whereas dayofyear is from 1 to 365. Having such large differences in the ranges of values will either slow down the training of the machine learning model or make it quite difficult. We solve this problem by applying normalization. There are several ways we can normalize the data with. Here I will choose the StandardScaler, which applies the following equation on each of the columns.\n",
    "\n",
    "z = (x - u) / s\n",
    "\n",
    "Here x is the column before scaling, u is thee mean and s is the standard deviation. So basically, we subtract the mean of each column from itself, then divide by the standard deviation of that column. To apply StandardScaler, we first fit the scaler object to the dataset:\n"
   ]
  },
  {
   "cell_type": "code",
   "execution_count": 30,
   "metadata": {},
   "outputs": [
    {
     "data": {
      "text/plain": [
       "StandardScaler()"
      ]
     },
     "execution_count": 30,
     "metadata": {},
     "output_type": "execute_result"
    }
   ],
   "source": [
    "scaler = StandardScaler()\n",
    "scaler.fit(X_train)"
   ]
  },
  {
   "cell_type": "markdown",
   "metadata": {},
   "source": [
    "Apply the scaling to both the training and test sets, as follows."
   ]
  },
  {
   "cell_type": "code",
   "execution_count": 31,
   "metadata": {},
   "outputs": [],
   "source": [
    "scaled_train = scaler.transform(X_train)\n",
    "scaled_test = scaler.transform(X_test)"
   ]
  },
  {
   "cell_type": "markdown",
   "metadata": {},
   "source": [
    "# Task 6: Train the XGBOOST and NN models"
   ]
  },
  {
   "cell_type": "markdown",
   "metadata": {},
   "source": [
    "First, create the XGBRegressor object which will represent the XGBOOST regression model."
   ]
  },
  {
   "cell_type": "code",
   "execution_count": 32,
   "metadata": {},
   "outputs": [],
   "source": [
    "XGBOOST_model = XGBRegressor(n_estimators=7)"
   ]
  },
  {
   "cell_type": "markdown",
   "metadata": {},
   "source": [
    "Next, train the XGBOOST regression model using the fit method, and perform prediction using the predict method."
   ]
  },
  {
   "cell_type": "code",
   "execution_count": 34,
   "metadata": {},
   "outputs": [
    {
     "name": "stdout",
     "output_type": "stream",
     "text": [
      "[0]\tvalidation_0-rmse:3121.15405\tvalidation_1-rmse:4338.40674\n",
      "[1]\tvalidation_0-rmse:2264.95044\tvalidation_1-rmse:3135.70386\n",
      "[2]\tvalidation_0-rmse:1665.83826\tvalidation_1-rmse:2322.55371\n",
      "[3]\tvalidation_0-rmse:1241.47046\tvalidation_1-rmse:1676.83875\n",
      "[4]\tvalidation_0-rmse:942.85718\tvalidation_1-rmse:1199.80676\n",
      "[5]\tvalidation_0-rmse:732.31842\tvalidation_1-rmse:765.99835\n",
      "[6]\tvalidation_0-rmse:582.53577\tvalidation_1-rmse:501.29828\n"
     ]
    }
   ],
   "source": [
    "XGBOOST_model.fit(scaled_train, y_train,\n",
    "                 eval_set=[(scaled_train, y_train), (scaled_test, y_test)],\n",
    "                 verbose=True)\n",
    "XGBOOST_prediction = XGBOOST_model.predict(scaled_test)"
   ]
  },
  {
   "cell_type": "markdown",
   "metadata": {},
   "source": [
    "Let us calculate the mean absolute error for the training."
   ]
  },
  {
   "cell_type": "code",
   "execution_count": 37,
   "metadata": {},
   "outputs": [
    {
     "name": "stdout",
     "output_type": "stream",
     "text": [
      "XGBOOST MAE =  392.1467982700893\n"
     ]
    }
   ],
   "source": [
    "print('XGBOOST MAE = ', mean_absolute_error(XGBOOST_prediction, y_test))"
   ]
  },
  {
   "cell_type": "markdown",
   "metadata": {},
   "source": [
    "Creation and training of the feedforward neural network model."
   ]
  },
  {
   "cell_type": "code",
   "execution_count": 36,
   "metadata": {},
   "outputs": [
    {
     "name": "stdout",
     "output_type": "stream",
     "text": [
      "Epoch 1/220\n",
      "6/6 [==============================] - 1s 105ms/step - loss: 3521.5239 - val_loss: 5792.5264\n",
      "Epoch 2/220\n",
      "6/6 [==============================] - 0s 29ms/step - loss: 3521.4546 - val_loss: 5792.4141\n",
      "Epoch 3/220\n",
      "6/6 [==============================] - 0s 9ms/step - loss: 3521.3901 - val_loss: 5792.2275\n",
      "Epoch 4/220\n",
      "6/6 [==============================] - 0s 7ms/step - loss: 3521.3162 - val_loss: 5792.1963\n",
      "Epoch 5/220\n",
      "6/6 [==============================] - 0s 10ms/step - loss: 3521.2441 - val_loss: 5792.0811\n",
      "Epoch 6/220\n",
      "6/6 [==============================] - 0s 13ms/step - loss: 3521.1677 - val_loss: 5792.0693\n",
      "Epoch 7/220\n",
      "6/6 [==============================] - 0s 21ms/step - loss: 3521.0874 - val_loss: 5791.9639\n",
      "Epoch 8/220\n",
      "6/6 [==============================] - 0s 18ms/step - loss: 3520.9983 - val_loss: 5791.8540\n",
      "Epoch 9/220\n",
      "6/6 [==============================] - 0s 19ms/step - loss: 3520.9023 - val_loss: 5791.7212\n",
      "Epoch 10/220\n",
      "6/6 [==============================] - 0s 10ms/step - loss: 3520.7966 - val_loss: 5791.5757\n",
      "Epoch 11/220\n",
      "6/6 [==============================] - 0s 7ms/step - loss: 3520.6848 - val_loss: 5791.4292\n",
      "Epoch 12/220\n",
      "6/6 [==============================] - 0s 7ms/step - loss: 3520.5540 - val_loss: 5791.2183\n",
      "Epoch 13/220\n",
      "6/6 [==============================] - 0s 7ms/step - loss: 3520.4136 - val_loss: 5791.0049\n",
      "Epoch 14/220\n",
      "6/6 [==============================] - 0s 6ms/step - loss: 3520.2539 - val_loss: 5790.7876\n",
      "Epoch 15/220\n",
      "6/6 [==============================] - 0s 8ms/step - loss: 3520.0815 - val_loss: 5790.5078\n",
      "Epoch 16/220\n",
      "6/6 [==============================] - 0s 5ms/step - loss: 3519.8843 - val_loss: 5790.2148\n",
      "Epoch 17/220\n",
      "6/6 [==============================] - 0s 6ms/step - loss: 3519.6665 - val_loss: 5789.9443\n",
      "Epoch 18/220\n",
      "6/6 [==============================] - 0s 6ms/step - loss: 3519.4277 - val_loss: 5789.5391\n",
      "Epoch 19/220\n",
      "6/6 [==============================] - 0s 5ms/step - loss: 3519.1582 - val_loss: 5789.2378\n",
      "Epoch 20/220\n",
      "6/6 [==============================] - 0s 5ms/step - loss: 3518.8652 - val_loss: 5789.0107\n",
      "Epoch 21/220\n",
      "6/6 [==============================] - 0s 5ms/step - loss: 3518.5349 - val_loss: 5788.5547\n",
      "Epoch 22/220\n",
      "6/6 [==============================] - 0s 5ms/step - loss: 3518.1724 - val_loss: 5788.0884\n",
      "Epoch 23/220\n",
      "6/6 [==============================] - 0s 5ms/step - loss: 3517.7795 - val_loss: 5787.5522\n",
      "Epoch 24/220\n",
      "6/6 [==============================] - 0s 5ms/step - loss: 3517.3513 - val_loss: 5786.7632\n",
      "Epoch 25/220\n",
      "6/6 [==============================] - 0s 5ms/step - loss: 3516.8799 - val_loss: 5785.7764\n",
      "Epoch 26/220\n",
      "6/6 [==============================] - 0s 5ms/step - loss: 3516.3645 - val_loss: 5784.8735\n",
      "Epoch 27/220\n",
      "6/6 [==============================] - 0s 5ms/step - loss: 3515.8201 - val_loss: 5783.4219\n",
      "Epoch 28/220\n",
      "6/6 [==============================] - 0s 5ms/step - loss: 3515.1980 - val_loss: 5782.0400\n",
      "Epoch 29/220\n",
      "6/6 [==============================] - 0s 6ms/step - loss: 3514.5190 - val_loss: 5780.7695\n",
      "Epoch 30/220\n",
      "6/6 [==============================] - 0s 5ms/step - loss: 3513.7981 - val_loss: 5778.9966\n",
      "Epoch 31/220\n",
      "6/6 [==============================] - 0s 5ms/step - loss: 3513.0120 - val_loss: 5777.0342\n",
      "Epoch 32/220\n",
      "6/6 [==============================] - 0s 6ms/step - loss: 3512.1724 - val_loss: 5775.0815\n",
      "Epoch 33/220\n",
      "6/6 [==============================] - 0s 6ms/step - loss: 3511.2932 - val_loss: 5772.6494\n",
      "Epoch 34/220\n",
      "6/6 [==============================] - 0s 6ms/step - loss: 3510.2961 - val_loss: 5770.3940\n",
      "Epoch 35/220\n",
      "6/6 [==============================] - 0s 6ms/step - loss: 3509.2451 - val_loss: 5768.6304\n",
      "Epoch 36/220\n",
      "6/6 [==============================] - 0s 6ms/step - loss: 3508.1487 - val_loss: 5766.0698\n",
      "Epoch 37/220\n",
      "6/6 [==============================] - 0s 6ms/step - loss: 3506.9800 - val_loss: 5763.2632\n",
      "Epoch 38/220\n",
      "6/6 [==============================] - 0s 6ms/step - loss: 3505.6990 - val_loss: 5760.6553\n",
      "Epoch 39/220\n",
      "6/6 [==============================] - 0s 6ms/step - loss: 3504.3579 - val_loss: 5757.7847\n",
      "Epoch 40/220\n",
      "6/6 [==============================] - 0s 6ms/step - loss: 3502.9480 - val_loss: 5754.5430\n",
      "Epoch 41/220\n",
      "6/6 [==============================] - 0s 8ms/step - loss: 3501.4270 - val_loss: 5751.5034\n",
      "Epoch 42/220\n",
      "6/6 [==============================] - 0s 6ms/step - loss: 3499.8315 - val_loss: 5747.8359\n",
      "Epoch 43/220\n",
      "6/6 [==============================] - 0s 6ms/step - loss: 3498.1565 - val_loss: 5743.5791\n",
      "Epoch 44/220\n",
      "6/6 [==============================] - 0s 5ms/step - loss: 3496.3457 - val_loss: 5739.6953\n",
      "Epoch 45/220\n",
      "6/6 [==============================] - 0s 6ms/step - loss: 3494.4612 - val_loss: 5735.2197\n",
      "Epoch 46/220\n",
      "6/6 [==============================] - 0s 6ms/step - loss: 3492.5427 - val_loss: 5730.0825\n",
      "Epoch 47/220\n",
      "6/6 [==============================] - 0s 6ms/step - loss: 3490.4263 - val_loss: 5725.0913\n",
      "Epoch 48/220\n",
      "6/6 [==============================] - 0s 6ms/step - loss: 3488.2454 - val_loss: 5719.7236\n",
      "Epoch 49/220\n",
      "6/6 [==============================] - 0s 7ms/step - loss: 3486.0225 - val_loss: 5713.8530\n",
      "Epoch 50/220\n",
      "6/6 [==============================] - 0s 5ms/step - loss: 3483.5730 - val_loss: 5708.6094\n",
      "Epoch 51/220\n",
      "6/6 [==============================] - 0s 6ms/step - loss: 3481.0552 - val_loss: 5703.4844\n",
      "Epoch 52/220\n",
      "6/6 [==============================] - 0s 7ms/step - loss: 3478.5139 - val_loss: 5696.9976\n",
      "Epoch 53/220\n",
      "6/6 [==============================] - 0s 7ms/step - loss: 3475.7393 - val_loss: 5691.1953\n",
      "Epoch 54/220\n",
      "6/6 [==============================] - 0s 11ms/step - loss: 3472.9773 - val_loss: 5684.3359\n",
      "Epoch 55/220\n",
      "6/6 [==============================] - 0s 6ms/step - loss: 3469.9282 - val_loss: 5678.1294\n",
      "Epoch 56/220\n",
      "6/6 [==============================] - 0s 6ms/step - loss: 3466.8967 - val_loss: 5671.9351\n",
      "Epoch 57/220\n",
      "6/6 [==============================] - 0s 7ms/step - loss: 3463.7188 - val_loss: 5664.6377\n",
      "Epoch 58/220\n",
      "6/6 [==============================] - 0s 7ms/step - loss: 3460.3230 - val_loss: 5657.8320\n",
      "Epoch 59/220\n",
      "6/6 [==============================] - 0s 5ms/step - loss: 3457.1792 - val_loss: 5647.6016\n",
      "Epoch 60/220\n",
      "6/6 [==============================] - 0s 7ms/step - loss: 3453.3374 - val_loss: 5640.0537\n",
      "Epoch 61/220\n",
      "6/6 [==============================] - 0s 6ms/step - loss: 3449.6091 - val_loss: 5632.2397\n",
      "Epoch 62/220\n",
      "6/6 [==============================] - 0s 12ms/step - loss: 3445.8618 - val_loss: 5623.4502\n",
      "Epoch 63/220\n",
      "6/6 [==============================] - 0s 5ms/step - loss: 3441.8408 - val_loss: 5615.6611\n",
      "Epoch 64/220\n",
      "6/6 [==============================] - 0s 8ms/step - loss: 3437.8330 - val_loss: 5605.9482\n",
      "Epoch 65/220\n",
      "6/6 [==============================] - 0s 7ms/step - loss: 3433.5396 - val_loss: 5596.6328\n",
      "Epoch 66/220\n",
      "6/6 [==============================] - 0s 5ms/step - loss: 3429.1206 - val_loss: 5587.1924\n",
      "Epoch 67/220\n",
      "6/6 [==============================] - 0s 5ms/step - loss: 3424.6182 - val_loss: 5576.6709\n",
      "Epoch 68/220\n",
      "6/6 [==============================] - 0s 5ms/step - loss: 3419.9851 - val_loss: 5566.0591\n",
      "Epoch 69/220\n",
      "6/6 [==============================] - 0s 5ms/step - loss: 3415.2341 - val_loss: 5553.7554\n",
      "Epoch 70/220\n",
      "6/6 [==============================] - 0s 5ms/step - loss: 3410.1665 - val_loss: 5544.1104\n",
      "Epoch 71/220\n",
      "6/6 [==============================] - 0s 5ms/step - loss: 3405.1108 - val_loss: 5533.0259\n",
      "Epoch 72/220\n",
      "6/6 [==============================] - 0s 6ms/step - loss: 3400.0396 - val_loss: 5519.4697\n",
      "Epoch 73/220\n",
      "6/6 [==============================] - 0s 5ms/step - loss: 3394.5615 - val_loss: 5506.3218\n",
      "Epoch 74/220\n",
      "6/6 [==============================] - 0s 6ms/step - loss: 3389.0698 - val_loss: 5493.6914\n",
      "Epoch 75/220\n",
      "6/6 [==============================] - 0s 5ms/step - loss: 3383.5586 - val_loss: 5478.0210\n",
      "Epoch 76/220\n",
      "6/6 [==============================] - 0s 5ms/step - loss: 3377.5920 - val_loss: 5466.5039\n",
      "Epoch 77/220\n",
      "6/6 [==============================] - 0s 5ms/step - loss: 3371.8088 - val_loss: 5449.8638\n",
      "Epoch 78/220\n",
      "6/6 [==============================] - 0s 6ms/step - loss: 3365.5779 - val_loss: 5434.4966\n",
      "Epoch 79/220\n",
      "6/6 [==============================] - 0s 5ms/step - loss: 3359.2705 - val_loss: 5419.0703\n",
      "Epoch 80/220\n",
      "6/6 [==============================] - 0s 5ms/step - loss: 3352.8071 - val_loss: 5402.8901\n",
      "Epoch 81/220\n",
      "6/6 [==============================] - 0s 7ms/step - loss: 3346.1921 - val_loss: 5386.0112\n",
      "Epoch 82/220\n",
      "6/6 [==============================] - 0s 7ms/step - loss: 3339.3928 - val_loss: 5368.6001\n",
      "Epoch 83/220\n",
      "6/6 [==============================] - 0s 5ms/step - loss: 3332.5007 - val_loss: 5349.9912\n",
      "Epoch 84/220\n",
      "6/6 [==============================] - 0s 5ms/step - loss: 3325.2341 - val_loss: 5332.7905\n",
      "Epoch 85/220\n",
      "6/6 [==============================] - 0s 6ms/step - loss: 3317.8975 - val_loss: 5314.1562\n",
      "Epoch 86/220\n",
      "6/6 [==============================] - 0s 7ms/step - loss: 3310.5464 - val_loss: 5294.0078\n",
      "Epoch 87/220\n",
      "6/6 [==============================] - 0s 6ms/step - loss: 3303.0352 - val_loss: 5272.3320\n",
      "Epoch 88/220\n",
      "6/6 [==============================] - 0s 6ms/step - loss: 3294.9194 - val_loss: 5253.2354\n",
      "Epoch 89/220\n",
      "6/6 [==============================] - 0s 6ms/step - loss: 3287.0732 - val_loss: 5231.3403\n",
      "Epoch 90/220\n",
      "6/6 [==============================] - 0s 6ms/step - loss: 3278.8525 - val_loss: 5209.7710\n",
      "Epoch 91/220\n",
      "6/6 [==============================] - 0s 6ms/step - loss: 3270.3545 - val_loss: 5189.2622\n",
      "Epoch 92/220\n",
      "6/6 [==============================] - 0s 5ms/step - loss: 3261.7886 - val_loss: 5168.9180\n",
      "Epoch 93/220\n",
      "6/6 [==============================] - 0s 5ms/step - loss: 3252.8933 - val_loss: 5148.7729\n",
      "Epoch 94/220\n",
      "6/6 [==============================] - 0s 7ms/step - loss: 3244.4226 - val_loss: 5124.0205\n",
      "Epoch 95/220\n",
      "6/6 [==============================] - 0s 5ms/step - loss: 3235.2673 - val_loss: 5099.0239\n",
      "Epoch 96/220\n",
      "6/6 [==============================] - 0s 6ms/step - loss: 3225.6941 - val_loss: 5075.3472\n",
      "Epoch 97/220\n",
      "6/6 [==============================] - 0s 5ms/step - loss: 3216.4517 - val_loss: 5049.4502\n",
      "Epoch 98/220\n",
      "6/6 [==============================] - 0s 5ms/step - loss: 3206.4902 - val_loss: 5024.7881\n",
      "Epoch 99/220\n",
      "6/6 [==============================] - 0s 5ms/step - loss: 3196.7205 - val_loss: 4999.6787\n",
      "Epoch 100/220\n",
      "6/6 [==============================] - 0s 6ms/step - loss: 3186.8677 - val_loss: 4969.9502\n",
      "Epoch 101/220\n",
      "6/6 [==============================] - 0s 5ms/step - loss: 3176.6692 - val_loss: 4939.7378\n",
      "Epoch 102/220\n",
      "6/6 [==============================] - 0s 5ms/step - loss: 3165.9580 - val_loss: 4911.8242\n",
      "Epoch 103/220\n",
      "6/6 [==============================] - 0s 6ms/step - loss: 3155.6565 - val_loss: 4880.6631\n",
      "Epoch 104/220\n",
      "6/6 [==============================] - 0s 6ms/step - loss: 3144.2554 - val_loss: 4853.3662\n",
      "Epoch 105/220\n",
      "6/6 [==============================] - 0s 5ms/step - loss: 3133.2900 - val_loss: 4824.3760\n",
      "Epoch 106/220\n",
      "6/6 [==============================] - 0s 5ms/step - loss: 3122.5300 - val_loss: 4791.1123\n",
      "Epoch 107/220\n",
      "6/6 [==============================] - 0s 6ms/step - loss: 3110.4666 - val_loss: 4762.2788\n",
      "Epoch 108/220\n",
      "6/6 [==============================] - 0s 5ms/step - loss: 3098.9658 - val_loss: 4730.3989\n",
      "Epoch 109/220\n",
      "6/6 [==============================] - 0s 6ms/step - loss: 3087.1873 - val_loss: 4697.0703\n",
      "Epoch 110/220\n",
      "6/6 [==============================] - 0s 6ms/step - loss: 3074.7407 - val_loss: 4667.6992\n",
      "Epoch 111/220\n",
      "6/6 [==============================] - 0s 5ms/step - loss: 3062.8350 - val_loss: 4632.2744\n",
      "Epoch 112/220\n",
      "6/6 [==============================] - 0s 7ms/step - loss: 3050.1384 - val_loss: 4597.4551\n",
      "Epoch 113/220\n",
      "6/6 [==============================] - 0s 5ms/step - loss: 3037.4006 - val_loss: 4564.3652\n",
      "Epoch 114/220\n",
      "6/6 [==============================] - 0s 6ms/step - loss: 3024.3601 - val_loss: 4529.2651\n",
      "Epoch 115/220\n",
      "6/6 [==============================] - 0s 6ms/step - loss: 3011.2039 - val_loss: 4492.8276\n",
      "Epoch 116/220\n",
      "6/6 [==============================] - 0s 7ms/step - loss: 2998.1187 - val_loss: 4454.3213\n",
      "Epoch 117/220\n",
      "6/6 [==============================] - 0s 5ms/step - loss: 2984.1487 - val_loss: 4419.7432\n",
      "Epoch 118/220\n",
      "6/6 [==============================] - 0s 5ms/step - loss: 2970.6929 - val_loss: 4381.8306\n",
      "Epoch 119/220\n",
      "6/6 [==============================] - 0s 7ms/step - loss: 2956.2292 - val_loss: 4348.4126\n",
      "Epoch 120/220\n",
      "6/6 [==============================] - 0s 5ms/step - loss: 2941.7810 - val_loss: 4315.4180\n",
      "Epoch 121/220\n",
      "6/6 [==============================] - 0s 6ms/step - loss: 2927.9202 - val_loss: 4274.0083\n",
      "Epoch 122/220\n",
      "6/6 [==============================] - 0s 8ms/step - loss: 2912.8608 - val_loss: 4237.4561\n",
      "Epoch 123/220\n",
      "6/6 [==============================] - 0s 6ms/step - loss: 2897.9614 - val_loss: 4198.3252\n",
      "Epoch 124/220\n",
      "6/6 [==============================] - 0s 5ms/step - loss: 2882.8557 - val_loss: 4156.8706\n",
      "Epoch 125/220\n",
      "6/6 [==============================] - 0s 6ms/step - loss: 2867.5342 - val_loss: 4112.9585\n",
      "Epoch 126/220\n",
      "6/6 [==============================] - 0s 5ms/step - loss: 2851.9473 - val_loss: 4067.9419\n",
      "Epoch 127/220\n",
      "6/6 [==============================] - 0s 5ms/step - loss: 2836.5671 - val_loss: 4021.0112\n",
      "Epoch 128/220\n",
      "6/6 [==============================] - 0s 7ms/step - loss: 2819.9971 - val_loss: 3978.5300\n",
      "Epoch 129/220\n",
      "6/6 [==============================] - 0s 6ms/step - loss: 2803.4927 - val_loss: 3938.9136\n",
      "Epoch 130/220\n",
      "6/6 [==============================] - 0s 5ms/step - loss: 2787.1685 - val_loss: 3895.6289\n",
      "Epoch 131/220\n",
      "6/6 [==============================] - 0s 5ms/step - loss: 2770.8879 - val_loss: 3845.5745\n",
      "Epoch 132/220\n",
      "6/6 [==============================] - 0s 5ms/step - loss: 2753.4185 - val_loss: 3801.1528\n",
      "Epoch 133/220\n",
      "6/6 [==============================] - 0s 6ms/step - loss: 2736.3899 - val_loss: 3753.6450\n",
      "Epoch 134/220\n",
      "6/6 [==============================] - 0s 5ms/step - loss: 2718.5159 - val_loss: 3705.4167\n",
      "Epoch 135/220\n",
      "6/6 [==============================] - 0s 6ms/step - loss: 2701.1216 - val_loss: 3659.2676\n",
      "Epoch 136/220\n",
      "6/6 [==============================] - 0s 6ms/step - loss: 2683.3318 - val_loss: 3612.3159\n",
      "Epoch 137/220\n",
      "6/6 [==============================] - 0s 6ms/step - loss: 2665.8906 - val_loss: 3563.5464\n",
      "Epoch 138/220\n",
      "6/6 [==============================] - 0s 6ms/step - loss: 2648.1865 - val_loss: 3510.0371\n",
      "Epoch 139/220\n",
      "6/6 [==============================] - 0s 6ms/step - loss: 2629.5906 - val_loss: 3461.1733\n",
      "Epoch 140/220\n",
      "6/6 [==============================] - 0s 6ms/step - loss: 2611.2573 - val_loss: 3410.2935\n",
      "Epoch 141/220\n",
      "6/6 [==============================] - 0s 6ms/step - loss: 2592.9363 - val_loss: 3354.5603\n",
      "Epoch 142/220\n",
      "6/6 [==============================] - 0s 6ms/step - loss: 2573.9565 - val_loss: 3303.9336\n",
      "Epoch 143/220\n",
      "6/6 [==============================] - 0s 5ms/step - loss: 2555.0083 - val_loss: 3249.1443\n",
      "Epoch 144/220\n",
      "6/6 [==============================] - 0s 5ms/step - loss: 2535.3340 - val_loss: 3197.1545\n",
      "Epoch 145/220\n",
      "6/6 [==============================] - 0s 5ms/step - loss: 2515.9468 - val_loss: 3142.6003\n",
      "Epoch 146/220\n",
      "6/6 [==============================] - 0s 5ms/step - loss: 2495.5571 - val_loss: 3088.8433\n",
      "Epoch 147/220\n",
      "6/6 [==============================] - 0s 5ms/step - loss: 2476.2036 - val_loss: 3029.1948\n",
      "Epoch 148/220\n",
      "6/6 [==============================] - 0s 8ms/step - loss: 2455.2456 - val_loss: 2973.8511\n",
      "Epoch 149/220\n",
      "6/6 [==============================] - 0s 5ms/step - loss: 2435.0376 - val_loss: 2916.7957\n",
      "Epoch 150/220\n",
      "6/6 [==============================] - 0s 8ms/step - loss: 2413.9385 - val_loss: 2858.0959\n",
      "Epoch 151/220\n",
      "6/6 [==============================] - 0s 8ms/step - loss: 2393.2976 - val_loss: 2791.7673\n",
      "Epoch 152/220\n",
      "6/6 [==============================] - 0s 7ms/step - loss: 2371.6638 - val_loss: 2732.9805\n",
      "Epoch 153/220\n",
      "6/6 [==============================] - 0s 6ms/step - loss: 2349.5532 - val_loss: 2682.9319\n",
      "Epoch 154/220\n",
      "6/6 [==============================] - 0s 7ms/step - loss: 2328.7834 - val_loss: 2617.8909\n",
      "Epoch 155/220\n",
      "6/6 [==============================] - 0s 6ms/step - loss: 2305.7759 - val_loss: 2553.7715\n",
      "Epoch 156/220\n",
      "6/6 [==============================] - 0s 6ms/step - loss: 2283.7991 - val_loss: 2483.8254\n",
      "Epoch 157/220\n",
      "6/6 [==============================] - 0s 7ms/step - loss: 2260.7871 - val_loss: 2426.6499\n",
      "Epoch 158/220\n",
      "6/6 [==============================] - 0s 6ms/step - loss: 2237.7410 - val_loss: 2370.8962\n",
      "Epoch 159/220\n",
      "6/6 [==============================] - 0s 6ms/step - loss: 2215.4055 - val_loss: 2297.6086\n",
      "Epoch 160/220\n",
      "6/6 [==============================] - 0s 8ms/step - loss: 2191.1091 - val_loss: 2234.9983\n",
      "Epoch 161/220\n",
      "6/6 [==============================] - 0s 6ms/step - loss: 2168.7031 - val_loss: 2163.0571\n",
      "Epoch 162/220\n",
      "6/6 [==============================] - 0s 5ms/step - loss: 2144.9927 - val_loss: 2090.6406\n",
      "Epoch 163/220\n",
      "6/6 [==============================] - 0s 5ms/step - loss: 2119.6270 - val_loss: 2031.9935\n",
      "Epoch 164/220\n",
      "6/6 [==============================] - 0s 6ms/step - loss: 2096.1465 - val_loss: 1963.3895\n",
      "Epoch 165/220\n",
      "6/6 [==============================] - 0s 6ms/step - loss: 2070.7654 - val_loss: 1904.0957\n",
      "Epoch 166/220\n",
      "6/6 [==============================] - 0s 6ms/step - loss: 2047.6908 - val_loss: 1837.8000\n",
      "Epoch 167/220\n",
      "6/6 [==============================] - 0s 7ms/step - loss: 2023.7452 - val_loss: 1765.2297\n",
      "Epoch 168/220\n",
      "6/6 [==============================] - 0s 6ms/step - loss: 1998.5355 - val_loss: 1702.7423\n",
      "Epoch 169/220\n",
      "6/6 [==============================] - 0s 6ms/step - loss: 1974.6791 - val_loss: 1634.9530\n",
      "Epoch 170/220\n",
      "6/6 [==============================] - 0s 5ms/step - loss: 1950.9935 - val_loss: 1563.2006\n",
      "Epoch 171/220\n",
      "6/6 [==============================] - 0s 5ms/step - loss: 1927.3756 - val_loss: 1491.1018\n",
      "Epoch 172/220\n",
      "6/6 [==============================] - 0s 8ms/step - loss: 1902.4397 - val_loss: 1432.3643\n",
      "Epoch 173/220\n",
      "6/6 [==============================] - 0s 8ms/step - loss: 1879.3348 - val_loss: 1374.3273\n",
      "Epoch 174/220\n",
      "6/6 [==============================] - 0s 6ms/step - loss: 1857.9852 - val_loss: 1322.1388\n",
      "Epoch 175/220\n",
      "6/6 [==============================] - 0s 7ms/step - loss: 1836.1072 - val_loss: 1291.5125\n",
      "Epoch 176/220\n",
      "6/6 [==============================] - 0s 6ms/step - loss: 1816.5914 - val_loss: 1264.4656\n",
      "Epoch 177/220\n",
      "6/6 [==============================] - 0s 6ms/step - loss: 1797.9716 - val_loss: 1237.7985\n",
      "Epoch 178/220\n",
      "6/6 [==============================] - 0s 6ms/step - loss: 1779.1503 - val_loss: 1213.3037\n",
      "Epoch 179/220\n",
      "6/6 [==============================] - 0s 6ms/step - loss: 1761.9613 - val_loss: 1183.0924\n",
      "Epoch 180/220\n",
      "6/6 [==============================] - 0s 6ms/step - loss: 1742.7338 - val_loss: 1155.8202\n",
      "Epoch 181/220\n",
      "6/6 [==============================] - 0s 7ms/step - loss: 1724.3138 - val_loss: 1134.0284\n",
      "Epoch 182/220\n",
      "6/6 [==============================] - 0s 6ms/step - loss: 1706.1638 - val_loss: 1107.5916\n",
      "Epoch 183/220\n",
      "6/6 [==============================] - 0s 6ms/step - loss: 1688.7235 - val_loss: 1083.4110\n",
      "Epoch 184/220\n",
      "6/6 [==============================] - 0s 8ms/step - loss: 1671.3447 - val_loss: 1054.5148\n",
      "Epoch 185/220\n",
      "6/6 [==============================] - 0s 6ms/step - loss: 1653.2358 - val_loss: 1025.4142\n",
      "Epoch 186/220\n",
      "6/6 [==============================] - 0s 7ms/step - loss: 1634.0079 - val_loss: 1004.4085\n",
      "Epoch 187/220\n",
      "6/6 [==============================] - 0s 6ms/step - loss: 1616.7684 - val_loss: 979.6176\n",
      "Epoch 188/220\n",
      "6/6 [==============================] - 0s 6ms/step - loss: 1599.9825 - val_loss: 952.3451\n",
      "Epoch 189/220\n",
      "6/6 [==============================] - 0s 8ms/step - loss: 1582.9000 - val_loss: 929.5639\n",
      "Epoch 190/220\n",
      "6/6 [==============================] - 0s 6ms/step - loss: 1568.1893 - val_loss: 909.8774\n",
      "Epoch 191/220\n",
      "6/6 [==============================] - 0s 6ms/step - loss: 1552.9192 - val_loss: 892.9425\n",
      "Epoch 192/220\n",
      "6/6 [==============================] - 0s 7ms/step - loss: 1538.8230 - val_loss: 874.2037\n",
      "Epoch 193/220\n",
      "6/6 [==============================] - 0s 5ms/step - loss: 1524.8572 - val_loss: 864.6298\n",
      "Epoch 194/220\n",
      "6/6 [==============================] - 0s 6ms/step - loss: 1511.4855 - val_loss: 852.5746\n",
      "Epoch 195/220\n",
      "6/6 [==============================] - 0s 5ms/step - loss: 1498.3688 - val_loss: 840.1641\n",
      "Epoch 196/220\n",
      "6/6 [==============================] - 0s 5ms/step - loss: 1485.7809 - val_loss: 827.1382\n",
      "Epoch 197/220\n",
      "6/6 [==============================] - 0s 5ms/step - loss: 1472.9521 - val_loss: 815.4011\n",
      "Epoch 198/220\n",
      "6/6 [==============================] - 0s 5ms/step - loss: 1461.2444 - val_loss: 801.0773\n",
      "Epoch 199/220\n",
      "6/6 [==============================] - 0s 5ms/step - loss: 1447.6503 - val_loss: 789.0082\n",
      "Epoch 200/220\n",
      "6/6 [==============================] - 0s 5ms/step - loss: 1436.2112 - val_loss: 775.1339\n",
      "Epoch 201/220\n",
      "6/6 [==============================] - 0s 5ms/step - loss: 1423.1221 - val_loss: 767.5954\n",
      "Epoch 202/220\n",
      "6/6 [==============================] - 0s 5ms/step - loss: 1412.2278 - val_loss: 760.2924\n",
      "Epoch 203/220\n",
      "6/6 [==============================] - 0s 5ms/step - loss: 1399.9904 - val_loss: 753.3331\n",
      "Epoch 204/220\n",
      "6/6 [==============================] - 0s 6ms/step - loss: 1388.3103 - val_loss: 745.1798\n",
      "Epoch 205/220\n",
      "6/6 [==============================] - 0s 5ms/step - loss: 1376.6635 - val_loss: 738.3229\n",
      "Epoch 206/220\n",
      "6/6 [==============================] - 0s 5ms/step - loss: 1365.8273 - val_loss: 733.7473\n",
      "Epoch 207/220\n",
      "6/6 [==============================] - 0s 5ms/step - loss: 1355.8243 - val_loss: 730.0278\n",
      "Epoch 208/220\n",
      "6/6 [==============================] - 0s 5ms/step - loss: 1345.7660 - val_loss: 727.5407\n",
      "Epoch 209/220\n",
      "6/6 [==============================] - 0s 5ms/step - loss: 1337.6652 - val_loss: 723.6950\n",
      "Epoch 210/220\n",
      "6/6 [==============================] - 0s 5ms/step - loss: 1329.9816 - val_loss: 722.4269\n",
      "Epoch 211/220\n",
      "6/6 [==============================] - 0s 5ms/step - loss: 1323.2657 - val_loss: 721.3725\n",
      "Epoch 212/220\n",
      "6/6 [==============================] - 0s 5ms/step - loss: 1317.0695 - val_loss: 722.2731\n",
      "Epoch 213/220\n",
      "6/6 [==============================] - 0s 5ms/step - loss: 1311.5549 - val_loss: 723.8583\n",
      "Epoch 214/220\n",
      "6/6 [==============================] - 0s 5ms/step - loss: 1305.2463 - val_loss: 725.1613\n",
      "Epoch 215/220\n",
      "6/6 [==============================] - 0s 5ms/step - loss: 1299.6884 - val_loss: 725.7404\n",
      "Epoch 216/220\n",
      "6/6 [==============================] - 0s 5ms/step - loss: 1294.6229 - val_loss: 725.8558\n",
      "Epoch 217/220\n",
      "6/6 [==============================] - 0s 5ms/step - loss: 1289.9120 - val_loss: 725.2173\n",
      "Epoch 218/220\n",
      "6/6 [==============================] - 0s 5ms/step - loss: 1285.0299 - val_loss: 725.3006\n",
      "Epoch 219/220\n",
      "6/6 [==============================] - 0s 5ms/step - loss: 1280.7131 - val_loss: 727.5607\n",
      "Epoch 220/220\n",
      "6/6 [==============================] - 0s 5ms/step - loss: 1277.3640 - val_loss: 730.0145\n"
     ]
    }
   ],
   "source": [
    "NN_model = Sequential()\n",
    "NN_model.add(Dense(20, input_shape=(scaled_train.shape[1],)))\n",
    "NN_model.add(Dense(10))\n",
    "NN_model.add(Dense(1))\n",
    "NN_model.compile(loss='mean_absolute_error', optimizer=Adam(lr=0.001))\n",
    "NN_model.fit(scaled_train, y_train, validation_data=(\n",
    "    scaled_test, y_test), epochs=220, verbose=1)\n",
    "NN_prediction = NN_model.predict(scaled_test)"
   ]
  },
  {
   "cell_type": "markdown",
   "metadata": {},
   "source": [
    "Let's compare the MAE values."
   ]
  },
  {
   "cell_type": "code",
   "execution_count": 38,
   "metadata": {},
   "outputs": [
    {
     "name": "stdout",
     "output_type": "stream",
     "text": [
      "XGBOOST MAE =  392.1467982700893\n",
      "Prophet MAE =  572.5555342749124\n",
      "SARIMAX MAE =  650.6157483614192\n",
      "NN MAE =  730.0144391741071\n"
     ]
    }
   ],
   "source": [
    "print('XGBOOST MAE = ', mean_absolute_error(XGBOOST_prediction, y_test))\n",
    "print('Prophet MAE = ', mean_absolute_error(prophet_future, y_test))\n",
    "print('SARIMAX MAE = ', mean_absolute_error(sarimax_prediction, y_test))\n",
    "print('NN MAE = ', mean_absolute_error(NN_prediction, y_test))"
   ]
  },
  {
   "cell_type": "markdown",
   "metadata": {},
   "source": [
    "Finally let us visualize the predictions of all 4 models. Note the autofmt_xdate method in matplotlib, it knows how to appropriately rotate the date labels on the x-axis."
   ]
  },
  {
   "cell_type": "code",
   "execution_count": 39,
   "metadata": {},
   "outputs": [
    {
     "data": {
      "text/plain": [
       "<Figure size 1440x1440 with 0 Axes>"
      ]
     },
     "metadata": {},
     "output_type": "display_data"
    },
    {
     "data": {
      "image/png": "[encoded data removed]",
      "text/plain": [
       "<Figure size 432x288 with 4 Axes>"
      ]
     },
     "metadata": {
      "needs_background": "light"
     },
     "output_type": "display_data"
    }
   ],
   "source": [
    "\n",
    "XGBOOST_df = pd.DataFrame({'y': XGBOOST_prediction.tolist()})\n",
    "XGBOOST_df.index = y_test.index\n",
    "\n",
    "NN_df = pd.DataFrame(NN_prediction)\n",
    "NN_df.index = y_test.index\n",
    "plt.figure(figsize=(20, 20))\n",
    "fig, axs = plt.subplots(2, 2)\n",
    "fig.suptitle('Compare SARIMAX, prophet, XGBOOST and NN')\n",
    "axs[0, 0].plot(dataset.tail(50))\n",
    "axs[0, 0].plot(sarimax_prediction.tail(50))\n",
    "axs[0, 0].set_title(\"SARIMAX\")\n",
    "axs[0, 1].plot(dataset.tail(50))\n",
    "axs[0, 1].plot(prophet_future.tail(50))\n",
    "axs[0, 1].set_title(\"Prophet\")\n",
    "axs[1, 0].plot(dataset.tail(50))\n",
    "axs[1, 0].plot(XGBOOST_df.tail(50))\n",
    "axs[1, 0].set_title(\"XGBOOST\")\n",
    "axs[1, 1].plot(dataset.tail(50))\n",
    "axs[1, 1].plot(NN_df.tail(50))\n",
    "axs[1, 1].set_title(\"NN\")\n",
    "\n",
    "for ax in fig.get_axes():\n",
    "    ax.label_outer()\n",
    "fig.autofmt_xdate()\n",
    "\n",
    "plt.savefig('Comparison',\n",
    "            bbox_inches='tight', transparent=False)"
   ]
  },
  {
   "cell_type": "code",
   "execution_count": null,
   "metadata": {},
   "outputs": [],
   "source": []
  }
 ],
 "metadata": {
  "kernelspec": {
   "display_name": "Python 3",
   "language": "python",
   "name": "python3"
  },
  "language_info": {
   "codemirror_mode": {
    "name": "ipython",
    "version": 3
   },
   "file_extension": ".py",
   "mimetype": "text/x-python",
   "name": "python",
   "nbconvert_exporter": "python",
   "pygments_lexer": "ipython3",
   "version": "3.8.3"
  }
 },
 "nbformat": 4,
 "nbformat_minor": 4
}
